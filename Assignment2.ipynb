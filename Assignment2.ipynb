{
  "nbformat": 4,
  "nbformat_minor": 0,
  "metadata": {
    "colab": {
      "provenance": []
    },
    "kernelspec": {
      "name": "python3",
      "display_name": "Python 3"
    },
    "language_info": {
      "name": "python"
    }
  },
  "cells": [
    {
      "cell_type": "code",
      "execution_count": 4,
      "metadata": {
        "id": "2fQEn8zkm6-K",
        "colab": {
          "base_uri": "https://localhost:8080/"
        },
        "outputId": "b071f191-689c-45bc-993b-144e4794d9c1"
      },
      "outputs": [
        {
          "output_type": "stream",
          "name": "stdout",
          "text": [
            "Enter your first name: Good\n",
            "Enter your last name: evening\n",
            "Full Name: Good evening\n",
            "Every Other Character: Go vnn\n"
          ]
        }
      ],
      "source": [
        "#Write a program that takes two strings from the user: first_name, last_name. Pass these variables to\n",
        "#fullname function that should return the (full name)\n",
        "def fullname(first_name, last_name):\n",
        "    full_name = f\"{first_name} {last_name}\"\n",
        "    return full_name\n",
        "\n",
        "def string_alternative(full_name):\n",
        "    return full_name[::2]\n",
        "\n",
        "def main():\n",
        "    # Taking user input\n",
        "    first_name = input(\"Enter your first name: \")\n",
        "    last_name = input(\"Enter your last name: \")\n",
        "\n",
        "    # Getting the full name using the fullname function\n",
        "    full_name = fullname(first_name, last_name)\n",
        "    print(f\"Full Name: {full_name}\")\n",
        "\n",
        "    # Using the string_alternative function to get every other character\n",
        "    alternative_chars = string_alternative(full_name)\n",
        "    print(f\"Every Other Character: {alternative_chars}\")\n",
        "\n",
        "if __name__ == \"__main__\":\n",
        "    main()"
      ]
    },
    {
      "cell_type": "code",
      "source": [
        "#Write a python program to find the wordcount in a file (input.txt) for each line and then print the output.\n",
        "# Finally store the output in output.txt file.\n",
        "def count_word_occurrences(line, word_count):\n",
        "    words = line.split()\n",
        "\n",
        "    for word in words:\n",
        "        word = word.strip()\n",
        "        word_count[word] = word_count.get(word, 0) + 1\n",
        "\n",
        "def main():\n",
        "    input_file_path = \"input.txt\"\n",
        "    output_file_path = \"output.txt\"\n",
        "\n",
        "    with open(input_file_path, 'r') as input_file:\n",
        "        lines = input_file.readlines()\n",
        "\n",
        "    # Output the original lines\n",
        "    print(\"Input:\")\n",
        "    for line in lines:\n",
        "        print(line.strip())\n",
        "\n",
        "    # Count word occurrences for each line\n",
        "    print(\"\\nWord_Count:\")\n",
        "    total_word_count = {}\n",
        "    for line in lines:\n",
        "        count_word_occurrences(line, total_word_count)\n",
        "\n",
        "    # Output the word count for each word\n",
        "    for word, count in total_word_count.items():\n",
        "        print(f\"{word}: {count}\")\n",
        "\n",
        "    # Store the output in output.txt\n",
        "    with open(output_file_path, 'w') as output_file:\n",
        "        output_file.write(\"Input:\\n\")\n",
        "        output_file.writelines(lines)\n",
        "        output_file.write(\"\\nWord_Count:\\n\")\n",
        "        for word, count in total_word_count.items():\n",
        "            output_file.write(f\"{word}: {count}\\n\")\n",
        "\n",
        "    print(f\"\\nOutput saved to {output_file_path}\")\n",
        "\n",
        "if __name__ == \"__main__\":\n",
        "    main()"
      ],
      "metadata": {
        "colab": {
          "base_uri": "https://localhost:8080/"
        },
        "id": "X9JMI8iNYpii",
        "outputId": "db3459c5-e6fd-4225-efcd-7854da00b1d9"
      },
      "execution_count": 13,
      "outputs": [
        {
          "output_type": "stream",
          "name": "stdout",
          "text": [
            "Input:\n",
            "Python Course\n",
            "Deep Learning Course\n",
            "\n",
            "Word_Count:\n",
            "Python: 1\n",
            "Course: 2\n",
            "Deep: 1\n",
            "Learning: 1\n",
            "\n",
            "Output saved to output.txt\n"
          ]
        }
      ]
    },
    {
      "cell_type": "code",
      "source": [
        "#Write a program, which reads heights (inches.) of customers into a list and convert these\n",
        "#heights to centimeters in a separate list using:\n",
        "def convert_heights_nested(heights_in_inches):\n",
        "    heights_in_cm = []\n",
        "    for height in heights_in_inches:\n",
        "        height_cm = height * 2.54\n",
        "        heights_in_cm.append(round(height_cm, 2))\n",
        "    return heights_in_cm\n",
        "\n",
        "def convert_heights_list_comprehension(heights_in_inches):\n",
        "    return [round(height * 2.54, 2) for height in heights_in_inches]\n",
        "\n",
        "def main():\n",
        "    # Input heights as a list\n",
        "    heights_in_inches = [float(input()) for i in range(int(input(\"Number of inputs: \")))]\n",
        "    print(f\"L1: {list(heights_in_inches)}\")\n",
        "    # Convert heights using nested loop\n",
        "    heights_in_cm_nested = convert_heights_nested(heights_in_inches)\n",
        "\n",
        "    # Convert heights using list comprehension\n",
        "    heights_in_cm_comprehension = convert_heights_list_comprehension(heights_in_inches)\n",
        "\n",
        "    # Output results\n",
        "    print(\"\\nOutput using Nested Loop:\", heights_in_cm_nested)\n",
        "    print(\"Output using List Comprehension:\", heights_in_cm_comprehension)\n",
        "\n",
        "if __name__ == \"__main__\":\n",
        "    main()"
      ],
      "metadata": {
        "colab": {
          "base_uri": "https://localhost:8080/"
        },
        "id": "mGadRAdldOcK",
        "outputId": "fb56bdfd-0422-4ee9-e239-825ede1abc80"
      },
      "execution_count": 41,
      "outputs": [
        {
          "output_type": "stream",
          "name": "stdout",
          "text": [
            "Number of inputs: 4\n",
            "150\n",
            "155\n",
            "145\n",
            "148\n",
            "L1: [150.0, 155.0, 145.0, 148.0]\n",
            "\n",
            "Output using Nested Loop: [381.0, 393.7, 368.3, 375.92]\n",
            "Output using List Comprehension: [381.0, 393.7, 368.3, 375.92]\n"
          ]
        }
      ]
    }
  ]
}